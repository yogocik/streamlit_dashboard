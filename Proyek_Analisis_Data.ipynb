{
  "cells": [
    {
      "cell_type": "markdown",
      "metadata": {
        "id": "H9wADwK78DCz"
      },
      "source": [
        "# Proyek Analisis Data: [Air Quality Dataset]\n",
        "- **Nama:** [Yogic]\n",
        "- **Email:** [yogicrhama@gmail.com]\n",
        "- **ID Dicoding:** [yogocik]"
      ]
    },
    {
      "cell_type": "markdown",
      "metadata": {
        "id": "eE0raob58DC0"
      },
      "source": [
        "## Menentukan Pertanyaan Bisnis"
      ]
    },
    {
      "cell_type": "markdown",
      "metadata": {
        "id": "GmQeQ5YF8DC0"
      },
      "source": [
        "- Berapa catatan temperatur terendah dan tertinggi pada tahun 2013 dan di statiun mana?  \n",
        "- Bagaimana korelasi antara rata-rata suhu udara, curah hujan, dan karbon monoksida pada tahun 2013 berdasarkan catatan stasiun pada pertanyaan awal?"
      ]
    },
    {
      "cell_type": "markdown",
      "metadata": {
        "id": "H-z4QGlO8DC1"
      },
      "source": [
        "## Import Semua Packages/Library yang Digunakan"
      ]
    },
    {
      "cell_type": "code",
      "execution_count": 1,
      "metadata": {
        "id": "FVYwaObI8DC1"
      },
      "outputs": [],
      "source": [
        "import pandas as pd\n",
        "import matplotlib.pyplot as plt\n",
        "import seaborn as sns\n",
        "import os"
      ]
    },
    {
      "cell_type": "markdown",
      "metadata": {
        "id": "h_Sh51Xy8DC1"
      },
      "source": [
        "## Data Wrangling"
      ]
    },
    {
      "cell_type": "markdown",
      "metadata": {
        "id": "sXU2GBYu8DC1"
      },
      "source": [
        "### Gathering Data"
      ]
    },
    {
      "cell_type": "code",
      "execution_count": 2,
      "metadata": {
        "id": "zjCBk1BI8DC1"
      },
      "outputs": [
        {
          "data": {
            "text/plain": [
              "dict_keys(['Gucheng', 'Changping', 'Dongsi', 'Nongzhanguan', 'Shunyi', 'Aotizhongxin', 'Wanshouxigong', 'Guanyuan', 'Dingling', 'Huairou', 'Tiantan', 'Wanliu'])"
            ]
          },
          "execution_count": 2,
          "metadata": {},
          "output_type": "execute_result"
        }
      ],
      "source": [
        "# Load File data\n",
        "data_dir = './data'\n",
        "file_list = [x for x in os.listdir(data_dir) if x.endswith('.csv')]\n",
        "# Store data into key-value variable\n",
        "data_map = {doc.split(\"_\")[2]:pd.read_csv(os.path.join(data_dir,doc)) for doc in file_list}\n",
        "data_map.keys()"
      ]
    },
    {
      "cell_type": "code",
      "execution_count": 3,
      "metadata": {},
      "outputs": [
        {
          "data": {
            "text/html": [
              "<div>\n",
              "<style scoped>\n",
              "    .dataframe tbody tr th:only-of-type {\n",
              "        vertical-align: middle;\n",
              "    }\n",
              "\n",
              "    .dataframe tbody tr th {\n",
              "        vertical-align: top;\n",
              "    }\n",
              "\n",
              "    .dataframe thead th {\n",
              "        text-align: right;\n",
              "    }\n",
              "</style>\n",
              "<table border=\"1\" class=\"dataframe\">\n",
              "  <thead>\n",
              "    <tr style=\"text-align: right;\">\n",
              "      <th></th>\n",
              "      <th>No</th>\n",
              "      <th>year</th>\n",
              "      <th>month</th>\n",
              "      <th>day</th>\n",
              "      <th>hour</th>\n",
              "      <th>PM2.5</th>\n",
              "      <th>PM10</th>\n",
              "      <th>SO2</th>\n",
              "      <th>NO2</th>\n",
              "      <th>CO</th>\n",
              "      <th>O3</th>\n",
              "      <th>TEMP</th>\n",
              "      <th>PRES</th>\n",
              "      <th>DEWP</th>\n",
              "      <th>RAIN</th>\n",
              "      <th>wd</th>\n",
              "      <th>WSPM</th>\n",
              "      <th>station</th>\n",
              "    </tr>\n",
              "  </thead>\n",
              "  <tbody>\n",
              "    <tr>\n",
              "      <th>0</th>\n",
              "      <td>1</td>\n",
              "      <td>2013</td>\n",
              "      <td>3</td>\n",
              "      <td>1</td>\n",
              "      <td>0</td>\n",
              "      <td>3.0</td>\n",
              "      <td>6.0</td>\n",
              "      <td>13.0</td>\n",
              "      <td>7.0</td>\n",
              "      <td>300.0</td>\n",
              "      <td>85.0</td>\n",
              "      <td>-2.3</td>\n",
              "      <td>1020.8</td>\n",
              "      <td>-19.7</td>\n",
              "      <td>0.0</td>\n",
              "      <td>E</td>\n",
              "      <td>0.5</td>\n",
              "      <td>Changping</td>\n",
              "    </tr>\n",
              "    <tr>\n",
              "      <th>1</th>\n",
              "      <td>2</td>\n",
              "      <td>2013</td>\n",
              "      <td>3</td>\n",
              "      <td>1</td>\n",
              "      <td>1</td>\n",
              "      <td>3.0</td>\n",
              "      <td>3.0</td>\n",
              "      <td>6.0</td>\n",
              "      <td>6.0</td>\n",
              "      <td>300.0</td>\n",
              "      <td>85.0</td>\n",
              "      <td>-2.5</td>\n",
              "      <td>1021.3</td>\n",
              "      <td>-19.0</td>\n",
              "      <td>0.0</td>\n",
              "      <td>ENE</td>\n",
              "      <td>0.7</td>\n",
              "      <td>Changping</td>\n",
              "    </tr>\n",
              "    <tr>\n",
              "      <th>2</th>\n",
              "      <td>3</td>\n",
              "      <td>2013</td>\n",
              "      <td>3</td>\n",
              "      <td>1</td>\n",
              "      <td>2</td>\n",
              "      <td>3.0</td>\n",
              "      <td>3.0</td>\n",
              "      <td>22.0</td>\n",
              "      <td>13.0</td>\n",
              "      <td>400.0</td>\n",
              "      <td>74.0</td>\n",
              "      <td>-3.0</td>\n",
              "      <td>1021.3</td>\n",
              "      <td>-19.9</td>\n",
              "      <td>0.0</td>\n",
              "      <td>ENE</td>\n",
              "      <td>0.2</td>\n",
              "      <td>Changping</td>\n",
              "    </tr>\n",
              "    <tr>\n",
              "      <th>3</th>\n",
              "      <td>4</td>\n",
              "      <td>2013</td>\n",
              "      <td>3</td>\n",
              "      <td>1</td>\n",
              "      <td>3</td>\n",
              "      <td>3.0</td>\n",
              "      <td>6.0</td>\n",
              "      <td>12.0</td>\n",
              "      <td>8.0</td>\n",
              "      <td>300.0</td>\n",
              "      <td>81.0</td>\n",
              "      <td>-3.6</td>\n",
              "      <td>1021.8</td>\n",
              "      <td>-19.1</td>\n",
              "      <td>0.0</td>\n",
              "      <td>NNE</td>\n",
              "      <td>1.0</td>\n",
              "      <td>Changping</td>\n",
              "    </tr>\n",
              "    <tr>\n",
              "      <th>4</th>\n",
              "      <td>5</td>\n",
              "      <td>2013</td>\n",
              "      <td>3</td>\n",
              "      <td>1</td>\n",
              "      <td>4</td>\n",
              "      <td>3.0</td>\n",
              "      <td>3.0</td>\n",
              "      <td>14.0</td>\n",
              "      <td>8.0</td>\n",
              "      <td>300.0</td>\n",
              "      <td>81.0</td>\n",
              "      <td>-3.5</td>\n",
              "      <td>1022.3</td>\n",
              "      <td>-19.4</td>\n",
              "      <td>0.0</td>\n",
              "      <td>N</td>\n",
              "      <td>2.1</td>\n",
              "      <td>Changping</td>\n",
              "    </tr>\n",
              "  </tbody>\n",
              "</table>\n",
              "</div>"
            ],
            "text/plain": [
              "   No  year  month  day  hour  PM2.5  PM10   SO2   NO2     CO    O3  TEMP  \\\n",
              "0   1  2013      3    1     0    3.0   6.0  13.0   7.0  300.0  85.0  -2.3   \n",
              "1   2  2013      3    1     1    3.0   3.0   6.0   6.0  300.0  85.0  -2.5   \n",
              "2   3  2013      3    1     2    3.0   3.0  22.0  13.0  400.0  74.0  -3.0   \n",
              "3   4  2013      3    1     3    3.0   6.0  12.0   8.0  300.0  81.0  -3.6   \n",
              "4   5  2013      3    1     4    3.0   3.0  14.0   8.0  300.0  81.0  -3.5   \n",
              "\n",
              "     PRES  DEWP  RAIN   wd  WSPM    station  \n",
              "0  1020.8 -19.7   0.0    E   0.5  Changping  \n",
              "1  1021.3 -19.0   0.0  ENE   0.7  Changping  \n",
              "2  1021.3 -19.9   0.0  ENE   0.2  Changping  \n",
              "3  1021.8 -19.1   0.0  NNE   1.0  Changping  \n",
              "4  1022.3 -19.4   0.0    N   2.1  Changping  "
            ]
          },
          "execution_count": 3,
          "metadata": {},
          "output_type": "execute_result"
        }
      ],
      "source": [
        "data_map['Changping'].head()"
      ]
    },
    {
      "cell_type": "code",
      "execution_count": 3,
      "metadata": {},
      "outputs": [
        {
          "data": {
            "text/plain": [
              "{'Aotizhongxin',\n",
              " 'Changping',\n",
              " 'Dingling',\n",
              " 'Dongsi',\n",
              " 'Guanyuan',\n",
              " 'Gucheng',\n",
              " 'Huairou',\n",
              " 'Nongzhanguan',\n",
              " 'Shunyi',\n",
              " 'Tiantan',\n",
              " 'Wanliu',\n",
              " 'Wanshouxigong'}"
            ]
          },
          "execution_count": 3,
          "metadata": {},
          "output_type": "execute_result"
        }
      ],
      "source": [
        "# Merge data\n",
        "sensor_df = pd.concat(data_map.values(), axis=0, ignore_index=True)\n",
        "set(sensor_df['station'].to_list())"
      ]
    },
    {
      "cell_type": "code",
      "execution_count": 4,
      "metadata": {},
      "outputs": [
        {
          "data": {
            "text/plain": [
              "12"
            ]
          },
          "execution_count": 4,
          "metadata": {},
          "output_type": "execute_result"
        }
      ],
      "source": [
        "stations = []\n",
        "for station in data_map.keys():\n",
        "    stations.append(*set(data_map[station]['station'].to_list()))\n",
        "len(stations)"
      ]
    },
    {
      "cell_type": "code",
      "execution_count": 5,
      "metadata": {},
      "outputs": [
        {
          "data": {
            "text/plain": [
              "{'Gucheng': 35064,\n",
              " 'Changping': 35064,\n",
              " 'Dongsi': 35064,\n",
              " 'Nongzhanguan': 35064,\n",
              " 'Shunyi': 35064,\n",
              " 'Aotizhongxin': 35064,\n",
              " 'Wanshouxigong': 35064,\n",
              " 'Guanyuan': 35064,\n",
              " 'Dingling': 35064,\n",
              " 'Huairou': 35064,\n",
              " 'Tiantan': 35064,\n",
              " 'Wanliu': 35064}"
            ]
          },
          "execution_count": 5,
          "metadata": {},
          "output_type": "execute_result"
        }
      ],
      "source": [
        "dict(sorted(\n",
        "    {key: len(val) for key, val in data_map.items()}.items(), \n",
        "    key=lambda item: item[1]\n",
        "    )\n",
        ")"
      ]
    },
    {
      "cell_type": "markdown",
      "metadata": {
        "id": "MMi6xGaDkbCi"
      },
      "source": [
        "**Insight:**\n",
        "- Ada 12 stasiun sensor yang mengirimkan data\n",
        "- Ada sekitar 420768 total data dari semua stasiun\n",
        "- Setiap stasiun memiliki sekitar 35k baris data"
      ]
    },
    {
      "cell_type": "markdown",
      "metadata": {
        "id": "FHSiqaZp8DC1"
      },
      "source": [
        "### Assessing Data"
      ]
    },
    {
      "cell_type": "code",
      "execution_count": 5,
      "metadata": {},
      "outputs": [
        {
          "data": {
            "text/html": [
              "<div>\n",
              "<style scoped>\n",
              "    .dataframe tbody tr th:only-of-type {\n",
              "        vertical-align: middle;\n",
              "    }\n",
              "\n",
              "    .dataframe tbody tr th {\n",
              "        vertical-align: top;\n",
              "    }\n",
              "\n",
              "    .dataframe thead th {\n",
              "        text-align: right;\n",
              "    }\n",
              "</style>\n",
              "<table border=\"1\" class=\"dataframe\">\n",
              "  <thead>\n",
              "    <tr style=\"text-align: right;\">\n",
              "      <th></th>\n",
              "      <th>No</th>\n",
              "      <th>year</th>\n",
              "      <th>month</th>\n",
              "      <th>day</th>\n",
              "      <th>hour</th>\n",
              "      <th>PM2.5</th>\n",
              "      <th>PM10</th>\n",
              "      <th>SO2</th>\n",
              "      <th>NO2</th>\n",
              "      <th>CO</th>\n",
              "      <th>O3</th>\n",
              "      <th>TEMP</th>\n",
              "      <th>PRES</th>\n",
              "      <th>DEWP</th>\n",
              "      <th>RAIN</th>\n",
              "      <th>wd</th>\n",
              "      <th>WSPM</th>\n",
              "      <th>station</th>\n",
              "    </tr>\n",
              "  </thead>\n",
              "  <tbody>\n",
              "    <tr>\n",
              "      <th>0</th>\n",
              "      <td>1</td>\n",
              "      <td>2013</td>\n",
              "      <td>3</td>\n",
              "      <td>1</td>\n",
              "      <td>0</td>\n",
              "      <td>6.0</td>\n",
              "      <td>18.0</td>\n",
              "      <td>5.0</td>\n",
              "      <td>NaN</td>\n",
              "      <td>800.0</td>\n",
              "      <td>88.0</td>\n",
              "      <td>0.1</td>\n",
              "      <td>1021.1</td>\n",
              "      <td>-18.6</td>\n",
              "      <td>0.0</td>\n",
              "      <td>NW</td>\n",
              "      <td>4.4</td>\n",
              "      <td>Gucheng</td>\n",
              "    </tr>\n",
              "  </tbody>\n",
              "</table>\n",
              "</div>"
            ],
            "text/plain": [
              "   No  year  month  day  hour  PM2.5  PM10  SO2  NO2     CO    O3  TEMP  \\\n",
              "0   1  2013      3    1     0    6.0  18.0  5.0  NaN  800.0  88.0   0.1   \n",
              "\n",
              "     PRES  DEWP  RAIN  wd  WSPM  station  \n",
              "0  1021.1 -18.6   0.0  NW   4.4  Gucheng  "
            ]
          },
          "execution_count": 5,
          "metadata": {},
          "output_type": "execute_result"
        }
      ],
      "source": [
        "sensor_df = pd.concat(data_map.values())\n",
        "sensor_df.head(1)"
      ]
    },
    {
      "cell_type": "code",
      "execution_count": 28,
      "metadata": {
        "id": "ax-3tEjc9Cj1"
      },
      "outputs": [
        {
          "name": "stdout",
          "output_type": "stream",
          "text": [
            "<class 'pandas.core.frame.DataFrame'>\n",
            "Index: 420768 entries, 0 to 35063\n",
            "Data columns (total 18 columns):\n",
            " #   Column   Non-Null Count   Dtype  \n",
            "---  ------   --------------   -----  \n",
            " 0   No       420768 non-null  int64  \n",
            " 1   year     420768 non-null  int64  \n",
            " 2   month    420768 non-null  int64  \n",
            " 3   day      420768 non-null  int64  \n",
            " 4   hour     420768 non-null  int64  \n",
            " 5   PM2.5    420768 non-null  float64\n",
            " 6   PM10     420768 non-null  float64\n",
            " 7   SO2      420768 non-null  float64\n",
            " 8   NO2      420746 non-null  float64\n",
            " 9   CO       420768 non-null  float64\n",
            " 10  O3       420768 non-null  float64\n",
            " 11  TEMP     420768 non-null  float64\n",
            " 12  PRES     420768 non-null  float64\n",
            " 13  DEWP     420768 non-null  float64\n",
            " 14  RAIN     420768 non-null  float64\n",
            " 15  wd       420768 non-null  object \n",
            " 16  WSPM     420768 non-null  float64\n",
            " 17  station  420768 non-null  object \n",
            "dtypes: float64(11), int64(5), object(2)\n",
            "memory usage: 61.0+ MB\n"
          ]
        }
      ],
      "source": [
        "sensor_df.info()"
      ]
    },
    {
      "cell_type": "code",
      "execution_count": 6,
      "metadata": {},
      "outputs": [
        {
          "data": {
            "text/plain": [
              "'PM2.5,PM10,SO2,NO2,CO,O3,TEMP,PRES,DEWP,RAIN,wd,WSPM'"
            ]
          },
          "execution_count": 6,
          "metadata": {},
          "output_type": "execute_result"
        }
      ],
      "source": [
        "# Null-contained columns\n",
        "null_columns = [x[0] for x in filter(lambda x: x[1] > 0, sensor_df.isna().sum().to_dict().items())]\n",
        "','.join(null_columns)"
      ]
    },
    {
      "cell_type": "markdown",
      "metadata": {
        "id": "7dtxhAPrkhPL"
      },
      "source": [
        "**Insight:**\n",
        "- Ada beberapa nilai kosong atau tidak diketahui pada kolom tertentu seperti PM2.5,PM10,SO2,NO2,CO,O3,TEMP,PRES,DEWP,RAIN,wd,WSPM\n",
        "- Data terdiri atas kolom dengan 2 datatype string dan 16 datatype numeric (11 float dan 5 integer)\n",
        "- Sebagian kolom data memiliki titik terendah dibawah 0 seperti TEMP dan DEWP"
      ]
    },
    {
      "cell_type": "markdown",
      "metadata": {
        "id": "EhN5R4hr8DC1"
      },
      "source": [
        "### Cleaning Data"
      ]
    },
    {
      "cell_type": "code",
      "execution_count": 29,
      "metadata": {},
      "outputs": [
        {
          "data": {
            "text/html": [
              "<div>\n",
              "<style scoped>\n",
              "    .dataframe tbody tr th:only-of-type {\n",
              "        vertical-align: middle;\n",
              "    }\n",
              "\n",
              "    .dataframe tbody tr th {\n",
              "        vertical-align: top;\n",
              "    }\n",
              "\n",
              "    .dataframe thead th {\n",
              "        text-align: right;\n",
              "    }\n",
              "</style>\n",
              "<table border=\"1\" class=\"dataframe\">\n",
              "  <thead>\n",
              "    <tr style=\"text-align: right;\">\n",
              "      <th></th>\n",
              "      <th>No</th>\n",
              "      <th>year</th>\n",
              "      <th>month</th>\n",
              "      <th>day</th>\n",
              "      <th>hour</th>\n",
              "      <th>PM2.5</th>\n",
              "      <th>PM10</th>\n",
              "      <th>SO2</th>\n",
              "      <th>NO2</th>\n",
              "      <th>CO</th>\n",
              "      <th>O3</th>\n",
              "      <th>TEMP</th>\n",
              "      <th>PRES</th>\n",
              "      <th>DEWP</th>\n",
              "      <th>RAIN</th>\n",
              "      <th>wd</th>\n",
              "      <th>WSPM</th>\n",
              "      <th>station</th>\n",
              "    </tr>\n",
              "  </thead>\n",
              "  <tbody>\n",
              "    <tr>\n",
              "      <th>0</th>\n",
              "      <td>1</td>\n",
              "      <td>2013</td>\n",
              "      <td>3</td>\n",
              "      <td>1</td>\n",
              "      <td>0</td>\n",
              "      <td>6.0</td>\n",
              "      <td>18.0</td>\n",
              "      <td>5.0</td>\n",
              "      <td>NaN</td>\n",
              "      <td>800.0</td>\n",
              "      <td>88.0</td>\n",
              "      <td>0.1</td>\n",
              "      <td>1021.1</td>\n",
              "      <td>-18.6</td>\n",
              "      <td>0.0</td>\n",
              "      <td>NW</td>\n",
              "      <td>4.4</td>\n",
              "      <td>Gucheng</td>\n",
              "    </tr>\n",
              "  </tbody>\n",
              "</table>\n",
              "</div>"
            ],
            "text/plain": [
              "   No  year  month  day  hour  PM2.5  PM10  SO2  NO2     CO    O3  TEMP  \\\n",
              "0   1  2013      3    1     0    6.0  18.0  5.0  NaN  800.0  88.0   0.1   \n",
              "\n",
              "     PRES  DEWP  RAIN  wd  WSPM  station  \n",
              "0  1021.1 -18.6   0.0  NW   4.4  Gucheng  "
            ]
          },
          "execution_count": 29,
          "metadata": {},
          "output_type": "execute_result"
        }
      ],
      "source": [
        "sensor_df.head(1)"
      ]
    },
    {
      "cell_type": "code",
      "execution_count": 31,
      "metadata": {},
      "outputs": [
        {
          "data": {
            "text/plain": [
              "['PM2.5',\n",
              " 'PM10',\n",
              " 'SO2',\n",
              " 'NO2',\n",
              " 'CO',\n",
              " 'O3',\n",
              " 'TEMP',\n",
              " 'PRES',\n",
              " 'DEWP',\n",
              " 'RAIN',\n",
              " 'WSPM']"
            ]
          },
          "execution_count": 31,
          "metadata": {},
          "output_type": "execute_result"
        }
      ],
      "source": [
        "null_columns"
      ]
    },
    {
      "cell_type": "code",
      "execution_count": 7,
      "metadata": {},
      "outputs": [
        {
          "name": "stderr",
          "output_type": "stream",
          "text": [
            "/tmp/ipykernel_6438/1588663299.py:4: FutureWarning: Series.interpolate with object dtype is deprecated and will raise in a future version. Call obj.infer_objects(copy=False) before interpolating instead.\n",
            "  data_map[station][col] = data_map[station][col].interpolate(method='linear', limit_direction='backward')\n"
          ]
        }
      ],
      "source": [
        "# Replace null value in numeric columns\n",
        "for station in data_map.keys():\n",
        "    for col in null_columns:\n",
        "        data_map[station][col] = data_map[station][col].interpolate(method='linear', limit_direction='backward')\n",
        "    data_map[station]['wd'] = data_map[station]['wd'].fillna(\"UNKNOWN\")"
      ]
    },
    {
      "cell_type": "code",
      "execution_count": 7,
      "metadata": {},
      "outputs": [
        {
          "name": "stdout",
          "output_type": "stream",
          "text": [
            "<class 'pandas.core.frame.DataFrame'>\n",
            "RangeIndex: 35064 entries, 0 to 35063\n",
            "Data columns (total 18 columns):\n",
            " #   Column   Non-Null Count  Dtype  \n",
            "---  ------   --------------  -----  \n",
            " 0   No       35064 non-null  int64  \n",
            " 1   year     35064 non-null  int64  \n",
            " 2   month    35064 non-null  int64  \n",
            " 3   day      35064 non-null  int64  \n",
            " 4   hour     35064 non-null  int64  \n",
            " 5   PM2.5    35064 non-null  float64\n",
            " 6   PM10     35064 non-null  float64\n",
            " 7   SO2      35064 non-null  float64\n",
            " 8   NO2      35064 non-null  float64\n",
            " 9   CO       35064 non-null  float64\n",
            " 10  O3       35064 non-null  float64\n",
            " 11  TEMP     35064 non-null  float64\n",
            " 12  PRES     35064 non-null  float64\n",
            " 13  DEWP     35064 non-null  float64\n",
            " 14  RAIN     35064 non-null  float64\n",
            " 15  wd       35064 non-null  object \n",
            " 16  WSPM     35064 non-null  float64\n",
            " 17  station  35064 non-null  object \n",
            "dtypes: float64(11), int64(5), object(2)\n",
            "memory usage: 4.8+ MB\n"
          ]
        }
      ],
      "source": [
        "data_map['Gucheng'].info()"
      ]
    },
    {
      "cell_type": "code",
      "execution_count": 8,
      "metadata": {},
      "outputs": [
        {
          "name": "stdout",
          "output_type": "stream",
          "text": [
            "<class 'pandas.core.frame.DataFrame'>\n",
            "Index: 420768 entries, 0 to 35063\n",
            "Data columns (total 18 columns):\n",
            " #   Column   Non-Null Count   Dtype  \n",
            "---  ------   --------------   -----  \n",
            " 0   No       420768 non-null  int64  \n",
            " 1   year     420768 non-null  int64  \n",
            " 2   month    420768 non-null  int64  \n",
            " 3   day      420768 non-null  int64  \n",
            " 4   hour     420768 non-null  int64  \n",
            " 5   PM2.5    420768 non-null  float64\n",
            " 6   PM10     420768 non-null  float64\n",
            " 7   SO2      420768 non-null  float64\n",
            " 8   NO2      420768 non-null  float64\n",
            " 9   CO       420768 non-null  float64\n",
            " 10  O3       420768 non-null  float64\n",
            " 11  TEMP     420768 non-null  float64\n",
            " 12  PRES     420768 non-null  float64\n",
            " 13  DEWP     420768 non-null  float64\n",
            " 14  RAIN     420768 non-null  float64\n",
            " 15  wd       420768 non-null  object \n",
            " 16  WSPM     420768 non-null  float64\n",
            " 17  station  420768 non-null  object \n",
            "dtypes: float64(11), int64(5), object(2)\n",
            "memory usage: 61.0+ MB\n"
          ]
        }
      ],
      "source": [
        "sensor_df = pd.concat(data_map.values())\n",
        "sensor_df.info()"
      ]
    },
    {
      "cell_type": "code",
      "execution_count": 9,
      "metadata": {},
      "outputs": [],
      "source": [
        "sensor_df.to_csv(\"dashboard/all_data.csv\")"
      ]
    },
    {
      "cell_type": "markdown",
      "metadata": {
        "id": "Q_5ejIqckiSP"
      },
      "source": [
        "**Insight:**\n",
        "- Mengganti value kosong dengan cara tertentu seperti Enum 'UNKNOWN' dan interpolasi hasil (karena berupa data sensor yang kontinyu)"
      ]
    },
    {
      "cell_type": "markdown",
      "metadata": {
        "id": "gp-Y6wU38DC1"
      },
      "source": [
        "## Exploratory Data Analysis (EDA)"
      ]
    },
    {
      "cell_type": "markdown",
      "metadata": {
        "id": "MW7WF2kr8DC1"
      },
      "source": [
        "### Explore ..."
      ]
    },
    {
      "cell_type": "code",
      "execution_count": 55,
      "metadata": {
        "id": "e9CQCZjk8DC2"
      },
      "outputs": [
        {
          "data": {
            "text/html": [
              "<div>\n",
              "<style scoped>\n",
              "    .dataframe tbody tr th:only-of-type {\n",
              "        vertical-align: middle;\n",
              "    }\n",
              "\n",
              "    .dataframe tbody tr th {\n",
              "        vertical-align: top;\n",
              "    }\n",
              "\n",
              "    .dataframe thead th {\n",
              "        text-align: right;\n",
              "    }\n",
              "</style>\n",
              "<table border=\"1\" class=\"dataframe\">\n",
              "  <thead>\n",
              "    <tr style=\"text-align: right;\">\n",
              "      <th></th>\n",
              "      <th>count</th>\n",
              "      <th>unique</th>\n",
              "      <th>top</th>\n",
              "      <th>freq</th>\n",
              "      <th>mean</th>\n",
              "      <th>std</th>\n",
              "      <th>min</th>\n",
              "      <th>25%</th>\n",
              "      <th>50%</th>\n",
              "      <th>75%</th>\n",
              "      <th>max</th>\n",
              "      <th>IQR</th>\n",
              "      <th>range</th>\n",
              "    </tr>\n",
              "  </thead>\n",
              "  <tbody>\n",
              "    <tr>\n",
              "      <th>No</th>\n",
              "      <td>420768.0</td>\n",
              "      <td>NaN</td>\n",
              "      <td>NaN</td>\n",
              "      <td>NaN</td>\n",
              "      <td>17532.5</td>\n",
              "      <td>10122.116943</td>\n",
              "      <td>1.0</td>\n",
              "      <td>8766.75</td>\n",
              "      <td>17532.5</td>\n",
              "      <td>26298.25</td>\n",
              "      <td>35064.0</td>\n",
              "      <td>17531.5</td>\n",
              "      <td>35063.0</td>\n",
              "    </tr>\n",
              "    <tr>\n",
              "      <th>year</th>\n",
              "      <td>420768.0</td>\n",
              "      <td>NaN</td>\n",
              "      <td>NaN</td>\n",
              "      <td>NaN</td>\n",
              "      <td>2014.66256</td>\n",
              "      <td>1.177198</td>\n",
              "      <td>2013.0</td>\n",
              "      <td>2014.0</td>\n",
              "      <td>2015.0</td>\n",
              "      <td>2016.0</td>\n",
              "      <td>2017.0</td>\n",
              "      <td>2.0</td>\n",
              "      <td>4.0</td>\n",
              "    </tr>\n",
              "    <tr>\n",
              "      <th>month</th>\n",
              "      <td>420768.0</td>\n",
              "      <td>NaN</td>\n",
              "      <td>NaN</td>\n",
              "      <td>NaN</td>\n",
              "      <td>6.52293</td>\n",
              "      <td>3.448707</td>\n",
              "      <td>1.0</td>\n",
              "      <td>4.0</td>\n",
              "      <td>7.0</td>\n",
              "      <td>10.0</td>\n",
              "      <td>12.0</td>\n",
              "      <td>6.0</td>\n",
              "      <td>11.0</td>\n",
              "    </tr>\n",
              "    <tr>\n",
              "      <th>day</th>\n",
              "      <td>420768.0</td>\n",
              "      <td>NaN</td>\n",
              "      <td>NaN</td>\n",
              "      <td>NaN</td>\n",
              "      <td>15.729637</td>\n",
              "      <td>8.800102</td>\n",
              "      <td>1.0</td>\n",
              "      <td>8.0</td>\n",
              "      <td>16.0</td>\n",
              "      <td>23.0</td>\n",
              "      <td>31.0</td>\n",
              "      <td>15.0</td>\n",
              "      <td>30.0</td>\n",
              "    </tr>\n",
              "    <tr>\n",
              "      <th>hour</th>\n",
              "      <td>420768.0</td>\n",
              "      <td>NaN</td>\n",
              "      <td>NaN</td>\n",
              "      <td>NaN</td>\n",
              "      <td>11.5</td>\n",
              "      <td>6.922195</td>\n",
              "      <td>0.0</td>\n",
              "      <td>5.75</td>\n",
              "      <td>11.5</td>\n",
              "      <td>17.25</td>\n",
              "      <td>23.0</td>\n",
              "      <td>11.5</td>\n",
              "      <td>23.0</td>\n",
              "    </tr>\n",
              "    <tr>\n",
              "      <th>PM2.5</th>\n",
              "      <td>420768.0</td>\n",
              "      <td>NaN</td>\n",
              "      <td>NaN</td>\n",
              "      <td>NaN</td>\n",
              "      <td>79.839718</td>\n",
              "      <td>80.950217</td>\n",
              "      <td>2.0</td>\n",
              "      <td>20.0</td>\n",
              "      <td>55.0</td>\n",
              "      <td>111.0</td>\n",
              "      <td>999.0</td>\n",
              "      <td>91.0</td>\n",
              "      <td>997.0</td>\n",
              "    </tr>\n",
              "    <tr>\n",
              "      <th>PM10</th>\n",
              "      <td>420768.0</td>\n",
              "      <td>NaN</td>\n",
              "      <td>NaN</td>\n",
              "      <td>NaN</td>\n",
              "      <td>104.910268</td>\n",
              "      <td>92.431422</td>\n",
              "      <td>2.0</td>\n",
              "      <td>36.0</td>\n",
              "      <td>82.0</td>\n",
              "      <td>145.0</td>\n",
              "      <td>999.0</td>\n",
              "      <td>109.0</td>\n",
              "      <td>997.0</td>\n",
              "    </tr>\n",
              "    <tr>\n",
              "      <th>SO2</th>\n",
              "      <td>420768.0</td>\n",
              "      <td>NaN</td>\n",
              "      <td>NaN</td>\n",
              "      <td>NaN</td>\n",
              "      <td>15.91309</td>\n",
              "      <td>21.896609</td>\n",
              "      <td>0.2856</td>\n",
              "      <td>3.0</td>\n",
              "      <td>7.0</td>\n",
              "      <td>20.0</td>\n",
              "      <td>500.0</td>\n",
              "      <td>17.0</td>\n",
              "      <td>499.7144</td>\n",
              "    </tr>\n",
              "    <tr>\n",
              "      <th>NO2</th>\n",
              "      <td>420768.0</td>\n",
              "      <td>NaN</td>\n",
              "      <td>NaN</td>\n",
              "      <td>NaN</td>\n",
              "      <td>50.599018</td>\n",
              "      <td>35.171921</td>\n",
              "      <td>1.0265</td>\n",
              "      <td>23.0</td>\n",
              "      <td>43.0</td>\n",
              "      <td>71.0</td>\n",
              "      <td>290.0</td>\n",
              "      <td>48.0</td>\n",
              "      <td>288.9735</td>\n",
              "    </tr>\n",
              "    <tr>\n",
              "      <th>CO</th>\n",
              "      <td>420768.0</td>\n",
              "      <td>NaN</td>\n",
              "      <td>NaN</td>\n",
              "      <td>NaN</td>\n",
              "      <td>1235.682649</td>\n",
              "      <td>1161.790893</td>\n",
              "      <td>100.0</td>\n",
              "      <td>500.0</td>\n",
              "      <td>900.0</td>\n",
              "      <td>1500.0</td>\n",
              "      <td>10000.0</td>\n",
              "      <td>1000.0</td>\n",
              "      <td>9900.0</td>\n",
              "    </tr>\n",
              "    <tr>\n",
              "      <th>O3</th>\n",
              "      <td>420768.0</td>\n",
              "      <td>NaN</td>\n",
              "      <td>NaN</td>\n",
              "      <td>NaN</td>\n",
              "      <td>57.237872</td>\n",
              "      <td>57.135195</td>\n",
              "      <td>0.2142</td>\n",
              "      <td>10.0</td>\n",
              "      <td>44.0</td>\n",
              "      <td>82.0</td>\n",
              "      <td>1071.0</td>\n",
              "      <td>72.0</td>\n",
              "      <td>1070.7858</td>\n",
              "    </tr>\n",
              "    <tr>\n",
              "      <th>TEMP</th>\n",
              "      <td>420768.0</td>\n",
              "      <td>NaN</td>\n",
              "      <td>NaN</td>\n",
              "      <td>NaN</td>\n",
              "      <td>13.531692</td>\n",
              "      <td>11.437867</td>\n",
              "      <td>-19.9</td>\n",
              "      <td>3.1</td>\n",
              "      <td>14.5</td>\n",
              "      <td>23.3</td>\n",
              "      <td>41.6</td>\n",
              "      <td>20.2</td>\n",
              "      <td>61.5</td>\n",
              "    </tr>\n",
              "    <tr>\n",
              "      <th>PRES</th>\n",
              "      <td>420768.0</td>\n",
              "      <td>NaN</td>\n",
              "      <td>NaN</td>\n",
              "      <td>NaN</td>\n",
              "      <td>1010.753337</td>\n",
              "      <td>10.474302</td>\n",
              "      <td>982.4</td>\n",
              "      <td>1002.3</td>\n",
              "      <td>1010.4</td>\n",
              "      <td>1019.0</td>\n",
              "      <td>1042.8</td>\n",
              "      <td>16.7</td>\n",
              "      <td>60.4</td>\n",
              "    </tr>\n",
              "    <tr>\n",
              "      <th>DEWP</th>\n",
              "      <td>420768.0</td>\n",
              "      <td>NaN</td>\n",
              "      <td>NaN</td>\n",
              "      <td>NaN</td>\n",
              "      <td>2.482421</td>\n",
              "      <td>13.797675</td>\n",
              "      <td>-43.4</td>\n",
              "      <td>-8.9</td>\n",
              "      <td>3.0</td>\n",
              "      <td>15.1</td>\n",
              "      <td>29.1</td>\n",
              "      <td>24.0</td>\n",
              "      <td>72.5</td>\n",
              "    </tr>\n",
              "    <tr>\n",
              "      <th>RAIN</th>\n",
              "      <td>420768.0</td>\n",
              "      <td>NaN</td>\n",
              "      <td>NaN</td>\n",
              "      <td>NaN</td>\n",
              "      <td>0.064428</td>\n",
              "      <td>0.820638</td>\n",
              "      <td>0.0</td>\n",
              "      <td>0.0</td>\n",
              "      <td>0.0</td>\n",
              "      <td>0.0</td>\n",
              "      <td>72.5</td>\n",
              "      <td>0.0</td>\n",
              "      <td>72.5</td>\n",
              "    </tr>\n",
              "    <tr>\n",
              "      <th>wd</th>\n",
              "      <td>420768</td>\n",
              "      <td>17</td>\n",
              "      <td>NE</td>\n",
              "      <td>43335</td>\n",
              "      <td>NaN</td>\n",
              "      <td>NaN</td>\n",
              "      <td>NaN</td>\n",
              "      <td>NaN</td>\n",
              "      <td>NaN</td>\n",
              "      <td>NaN</td>\n",
              "      <td>NaN</td>\n",
              "      <td>NaN</td>\n",
              "      <td>NaN</td>\n",
              "    </tr>\n",
              "    <tr>\n",
              "      <th>WSPM</th>\n",
              "      <td>420768.0</td>\n",
              "      <td>NaN</td>\n",
              "      <td>NaN</td>\n",
              "      <td>NaN</td>\n",
              "      <td>1.730034</td>\n",
              "      <td>1.246674</td>\n",
              "      <td>0.0</td>\n",
              "      <td>0.9</td>\n",
              "      <td>1.4</td>\n",
              "      <td>2.2</td>\n",
              "      <td>13.2</td>\n",
              "      <td>1.3</td>\n",
              "      <td>13.2</td>\n",
              "    </tr>\n",
              "    <tr>\n",
              "      <th>station</th>\n",
              "      <td>420768</td>\n",
              "      <td>12</td>\n",
              "      <td>Gucheng</td>\n",
              "      <td>35064</td>\n",
              "      <td>NaN</td>\n",
              "      <td>NaN</td>\n",
              "      <td>NaN</td>\n",
              "      <td>NaN</td>\n",
              "      <td>NaN</td>\n",
              "      <td>NaN</td>\n",
              "      <td>NaN</td>\n",
              "      <td>NaN</td>\n",
              "      <td>NaN</td>\n",
              "    </tr>\n",
              "  </tbody>\n",
              "</table>\n",
              "</div>"
            ],
            "text/plain": [
              "            count unique      top   freq         mean           std     min  \\\n",
              "No       420768.0    NaN      NaN    NaN      17532.5  10122.116943     1.0   \n",
              "year     420768.0    NaN      NaN    NaN   2014.66256      1.177198  2013.0   \n",
              "month    420768.0    NaN      NaN    NaN      6.52293      3.448707     1.0   \n",
              "day      420768.0    NaN      NaN    NaN    15.729637      8.800102     1.0   \n",
              "hour     420768.0    NaN      NaN    NaN         11.5      6.922195     0.0   \n",
              "PM2.5    420768.0    NaN      NaN    NaN    79.839718     80.950217     2.0   \n",
              "PM10     420768.0    NaN      NaN    NaN   104.910268     92.431422     2.0   \n",
              "SO2      420768.0    NaN      NaN    NaN     15.91309     21.896609  0.2856   \n",
              "NO2      420768.0    NaN      NaN    NaN    50.599018     35.171921  1.0265   \n",
              "CO       420768.0    NaN      NaN    NaN  1235.682649   1161.790893   100.0   \n",
              "O3       420768.0    NaN      NaN    NaN    57.237872     57.135195  0.2142   \n",
              "TEMP     420768.0    NaN      NaN    NaN    13.531692     11.437867   -19.9   \n",
              "PRES     420768.0    NaN      NaN    NaN  1010.753337     10.474302   982.4   \n",
              "DEWP     420768.0    NaN      NaN    NaN     2.482421     13.797675   -43.4   \n",
              "RAIN     420768.0    NaN      NaN    NaN     0.064428      0.820638     0.0   \n",
              "wd         420768     17       NE  43335          NaN           NaN     NaN   \n",
              "WSPM     420768.0    NaN      NaN    NaN     1.730034      1.246674     0.0   \n",
              "station    420768     12  Gucheng  35064          NaN           NaN     NaN   \n",
              "\n",
              "             25%      50%       75%      max      IQR      range  \n",
              "No       8766.75  17532.5  26298.25  35064.0  17531.5    35063.0  \n",
              "year      2014.0   2015.0    2016.0   2017.0      2.0        4.0  \n",
              "month        4.0      7.0      10.0     12.0      6.0       11.0  \n",
              "day          8.0     16.0      23.0     31.0     15.0       30.0  \n",
              "hour        5.75     11.5     17.25     23.0     11.5       23.0  \n",
              "PM2.5       20.0     55.0     111.0    999.0     91.0      997.0  \n",
              "PM10        36.0     82.0     145.0    999.0    109.0      997.0  \n",
              "SO2          3.0      7.0      20.0    500.0     17.0   499.7144  \n",
              "NO2         23.0     43.0      71.0    290.0     48.0   288.9735  \n",
              "CO         500.0    900.0    1500.0  10000.0   1000.0     9900.0  \n",
              "O3          10.0     44.0      82.0   1071.0     72.0  1070.7858  \n",
              "TEMP         3.1     14.5      23.3     41.6     20.2       61.5  \n",
              "PRES      1002.3   1010.4    1019.0   1042.8     16.7       60.4  \n",
              "DEWP        -8.9      3.0      15.1     29.1     24.0       72.5  \n",
              "RAIN         0.0      0.0       0.0     72.5      0.0       72.5  \n",
              "wd           NaN      NaN       NaN      NaN      NaN        NaN  \n",
              "WSPM         0.9      1.4       2.2     13.2      1.3       13.2  \n",
              "station      NaN      NaN       NaN      NaN      NaN        NaN  "
            ]
          },
          "execution_count": 55,
          "metadata": {},
          "output_type": "execute_result"
        }
      ],
      "source": [
        "# Show statistics of all columns\n",
        "stats_df = sensor_df.describe(include='all').T\n",
        "stats_df['IQR'] = stats_df['75%'] - stats_df['25%']\n",
        "stats_df['range'] = stats_df ['max'] - stats_df['min']\n",
        "stats_df"
      ]
    },
    {
      "cell_type": "code",
      "execution_count": 41,
      "metadata": {},
      "outputs": [
        {
          "data": {
            "text/plain": [
              "<Axes: >"
            ]
          },
          "execution_count": 41,
          "metadata": {},
          "output_type": "execute_result"
        },
        {
          "data": {
            "image/png": "[encoded data removed]",
            "text/plain": [
              "<Figure size 640x480 with 2 Axes>"
            ]
          },
          "metadata": {},
          "output_type": "display_data"
        }
      ],
      "source": [
        "# Show correlation between every numeric columns\n",
        "sns.heatmap(sensor_df.corr(method='pearson', numeric_only=True))"
      ]
    },
    {
      "cell_type": "markdown",
      "metadata": {
        "id": "th_Lzl2Fkj9O"
      },
      "source": [
        "**Insight:**\n",
        "- Ada yang memiliki korelasi yang berbanding lurus seperti PM2.5 dengan CO, PM2.5 dengan NO2, dst (heatmap)\n",
        "- Ada yang memiliki korelasi yang berbanding terbalik seperti TEMP dengan PRES, RAIN dengan PRES, dst (heatmap)"
      ]
    },
    {
      "cell_type": "markdown",
      "metadata": {
        "id": "zsyZjqak8DC2"
      },
      "source": [
        "## Visualization & Explanatory Analysis"
      ]
    },
    {
      "cell_type": "markdown",
      "metadata": {
        "id": "HZxOiQ6n8DC2"
      },
      "source": [
        "### Pertanyaan 1: Berapa catatan temperatur terendah dan tertinggi pada tahun 2013 dan di stasiun mana?"
      ]
    },
    {
      "cell_type": "code",
      "execution_count": 68,
      "metadata": {
        "id": "1swJUdAD8DC2"
      },
      "outputs": [
        {
          "data": {
            "text/html": [
              "<div>\n",
              "<style scoped>\n",
              "    .dataframe tbody tr th:only-of-type {\n",
              "        vertical-align: middle;\n",
              "    }\n",
              "\n",
              "    .dataframe tbody tr th {\n",
              "        vertical-align: top;\n",
              "    }\n",
              "\n",
              "    .dataframe thead th {\n",
              "        text-align: right;\n",
              "    }\n",
              "</style>\n",
              "<table border=\"1\" class=\"dataframe\">\n",
              "  <thead>\n",
              "    <tr style=\"text-align: right;\">\n",
              "      <th></th>\n",
              "      <th>station</th>\n",
              "      <th>temp_min</th>\n",
              "      <th>temp_avg</th>\n",
              "      <th>temp_max</th>\n",
              "    </tr>\n",
              "  </thead>\n",
              "  <tbody>\n",
              "    <tr>\n",
              "      <th>0</th>\n",
              "      <td>Aotizhongxin</td>\n",
              "      <td>-9.4</td>\n",
              "      <td>15.497740</td>\n",
              "      <td>37.9</td>\n",
              "    </tr>\n",
              "    <tr>\n",
              "      <th>1</th>\n",
              "      <td>Changping</td>\n",
              "      <td>-9.6</td>\n",
              "      <td>15.961397</td>\n",
              "      <td>37.9</td>\n",
              "    </tr>\n",
              "    <tr>\n",
              "      <th>2</th>\n",
              "      <td>Dingling</td>\n",
              "      <td>-9.6</td>\n",
              "      <td>15.961397</td>\n",
              "      <td>37.9</td>\n",
              "    </tr>\n",
              "    <tr>\n",
              "      <th>3</th>\n",
              "      <td>Dongsi</td>\n",
              "      <td>-8.5</td>\n",
              "      <td>15.963657</td>\n",
              "      <td>37.5</td>\n",
              "    </tr>\n",
              "    <tr>\n",
              "      <th>4</th>\n",
              "      <td>Guanyuan</td>\n",
              "      <td>-9.4</td>\n",
              "      <td>15.497740</td>\n",
              "      <td>37.9</td>\n",
              "    </tr>\n",
              "    <tr>\n",
              "      <th>5</th>\n",
              "      <td>Gucheng</td>\n",
              "      <td>-8.0</td>\n",
              "      <td>15.932823</td>\n",
              "      <td>37.7</td>\n",
              "    </tr>\n",
              "    <tr>\n",
              "      <th>6</th>\n",
              "      <td>Huairou</td>\n",
              "      <td>-11.6</td>\n",
              "      <td>14.660335</td>\n",
              "      <td>36.9</td>\n",
              "    </tr>\n",
              "    <tr>\n",
              "      <th>7</th>\n",
              "      <td>Nongzhanguan</td>\n",
              "      <td>-8.5</td>\n",
              "      <td>15.963657</td>\n",
              "      <td>37.5</td>\n",
              "    </tr>\n",
              "    <tr>\n",
              "      <th>8</th>\n",
              "      <td>Shunyi</td>\n",
              "      <td>-9.9</td>\n",
              "      <td>15.535103</td>\n",
              "      <td>37.8</td>\n",
              "    </tr>\n",
              "    <tr>\n",
              "      <th>9</th>\n",
              "      <td>Tiantan</td>\n",
              "      <td>-8.5</td>\n",
              "      <td>15.963657</td>\n",
              "      <td>37.5</td>\n",
              "    </tr>\n",
              "    <tr>\n",
              "      <th>10</th>\n",
              "      <td>Wanliu</td>\n",
              "      <td>-9.4</td>\n",
              "      <td>15.497740</td>\n",
              "      <td>37.9</td>\n",
              "    </tr>\n",
              "    <tr>\n",
              "      <th>11</th>\n",
              "      <td>Wanshouxigong</td>\n",
              "      <td>-10.1</td>\n",
              "      <td>15.854153</td>\n",
              "      <td>38.0</td>\n",
              "    </tr>\n",
              "  </tbody>\n",
              "</table>\n",
              "</div>"
            ],
            "text/plain": [
              "          station  temp_min   temp_avg  temp_max\n",
              "0    Aotizhongxin      -9.4  15.497740      37.9\n",
              "1       Changping      -9.6  15.961397      37.9\n",
              "2        Dingling      -9.6  15.961397      37.9\n",
              "3          Dongsi      -8.5  15.963657      37.5\n",
              "4        Guanyuan      -9.4  15.497740      37.9\n",
              "5         Gucheng      -8.0  15.932823      37.7\n",
              "6         Huairou     -11.6  14.660335      36.9\n",
              "7    Nongzhanguan      -8.5  15.963657      37.5\n",
              "8          Shunyi      -9.9  15.535103      37.8\n",
              "9         Tiantan      -8.5  15.963657      37.5\n",
              "10         Wanliu      -9.4  15.497740      37.9\n",
              "11  Wanshouxigong     -10.1  15.854153      38.0"
            ]
          },
          "execution_count": 68,
          "metadata": {},
          "output_type": "execute_result"
        }
      ],
      "source": [
        "temps_2013 = pd.DataFrame.from_records(\n",
        "    sensor_df.loc[sensor_df['year'] == 2013].groupby(by='station').agg(\n",
        "    temp_min=pd.NamedAgg(column=\"TEMP\", aggfunc=\"min\"),\n",
        "    temp_avg=pd.NamedAgg(column=\"TEMP\", aggfunc=\"mean\"),\n",
        "    temp_max=pd.NamedAgg(column=\"TEMP\", aggfunc=\"max\"),\n",
        ").to_records()\n",
        ")\n",
        "temps_2013"
      ]
    },
    {
      "cell_type": "code",
      "execution_count": 85,
      "metadata": {},
      "outputs": [
        {
          "data": {
            "text/plain": [
              "<matplotlib.legend.Legend at 0x75f82fe28140>"
            ]
          },
          "execution_count": 85,
          "metadata": {},
          "output_type": "execute_result"
        },
        {
          "data": {
            "image/png": "[encoded data removed]",
            "text/plain": [
              "<Figure size 640x480 with 1 Axes>"
            ]
          },
          "metadata": {},
          "output_type": "display_data"
        }
      ],
      "source": [
        "ax = temps_2013.sort_values(by='temp_max', ascending=True).plot(kind='barh', \n",
        "                xlabel='station', \n",
        "                legend='reverse',\n",
        "                x='station',\n",
        "                title='Temperature Stats by Station',\n",
        "                ylabel='temperature')\n",
        "for container in ax.containers:\n",
        "    ax.bar_label(container)\n",
        "ax.legend(\n",
        "    bbox_to_anchor=(1.0, 1.0),\n",
        "    fontsize='small',\n",
        ")"
      ]
    },
    {
      "cell_type": "markdown",
      "metadata": {},
      "source": [
        "### Jawaban 1: Pada tahun 2013, temperature terendah tercatat -11.6 di stasiun Huairou dan temperature tertinggi sebesar 38 di stasiun Wanshouxigong"
      ]
    },
    {
      "cell_type": "markdown",
      "metadata": {
        "id": "DgHI7CiU8DC2"
      },
      "source": [
        "### Pertanyaan 2: Bagaimana korelasi antara rata-rata bulanan suhu udara, curah hujan, dan karbon monoksida pada tahun 2013 berdasarkan catatan stasiun pada pertanyaan awal?"
      ]
    },
    {
      "cell_type": "code",
      "execution_count": 88,
      "metadata": {},
      "outputs": [
        {
          "data": {
            "text/html": [
              "<div>\n",
              "<style scoped>\n",
              "    .dataframe tbody tr th:only-of-type {\n",
              "        vertical-align: middle;\n",
              "    }\n",
              "\n",
              "    .dataframe tbody tr th {\n",
              "        vertical-align: top;\n",
              "    }\n",
              "\n",
              "    .dataframe thead th {\n",
              "        text-align: right;\n",
              "    }\n",
              "</style>\n",
              "<table border=\"1\" class=\"dataframe\">\n",
              "  <thead>\n",
              "    <tr style=\"text-align: right;\">\n",
              "      <th></th>\n",
              "      <th>No</th>\n",
              "      <th>year</th>\n",
              "      <th>month</th>\n",
              "      <th>day</th>\n",
              "      <th>hour</th>\n",
              "      <th>PM2.5</th>\n",
              "      <th>PM10</th>\n",
              "      <th>SO2</th>\n",
              "      <th>NO2</th>\n",
              "      <th>CO</th>\n",
              "      <th>O3</th>\n",
              "      <th>TEMP</th>\n",
              "      <th>PRES</th>\n",
              "      <th>DEWP</th>\n",
              "      <th>RAIN</th>\n",
              "      <th>wd</th>\n",
              "      <th>WSPM</th>\n",
              "      <th>station</th>\n",
              "    </tr>\n",
              "  </thead>\n",
              "  <tbody>\n",
              "    <tr>\n",
              "      <th>0</th>\n",
              "      <td>1</td>\n",
              "      <td>2013</td>\n",
              "      <td>3</td>\n",
              "      <td>1</td>\n",
              "      <td>0</td>\n",
              "      <td>6.0</td>\n",
              "      <td>18.0</td>\n",
              "      <td>5.0</td>\n",
              "      <td>5.0</td>\n",
              "      <td>800.0</td>\n",
              "      <td>88.0</td>\n",
              "      <td>0.1</td>\n",
              "      <td>1021.1</td>\n",
              "      <td>-18.6</td>\n",
              "      <td>0.0</td>\n",
              "      <td>NW</td>\n",
              "      <td>4.4</td>\n",
              "      <td>Gucheng</td>\n",
              "    </tr>\n",
              "  </tbody>\n",
              "</table>\n",
              "</div>"
            ],
            "text/plain": [
              "   No  year  month  day  hour  PM2.5  PM10  SO2  NO2     CO    O3  TEMP  \\\n",
              "0   1  2013      3    1     0    6.0  18.0  5.0  5.0  800.0  88.0   0.1   \n",
              "\n",
              "     PRES  DEWP  RAIN  wd  WSPM  station  \n",
              "0  1021.1 -18.6   0.0  NW   4.4  Gucheng  "
            ]
          },
          "execution_count": 88,
          "metadata": {},
          "output_type": "execute_result"
        }
      ],
      "source": [
        "sensor_df.head(1)"
      ]
    },
    {
      "cell_type": "code",
      "execution_count": 87,
      "metadata": {},
      "outputs": [
        {
          "data": {
            "text/plain": [
              "{'Aotizhongxin',\n",
              " 'Changping',\n",
              " 'Dingling',\n",
              " 'Dongsi',\n",
              " 'Guanyuan',\n",
              " 'Gucheng',\n",
              " 'Huairou',\n",
              " 'Nongzhanguan',\n",
              " 'Shunyi',\n",
              " 'Tiantan',\n",
              " 'Wanliu',\n",
              " 'Wanshouxigong'}"
            ]
          },
          "execution_count": 87,
          "metadata": {},
          "output_type": "execute_result"
        }
      ],
      "source": [
        "set(sensor_df['station'].to_list())"
      ]
    },
    {
      "cell_type": "code",
      "execution_count": 9,
      "metadata": {
        "id": "Go0lCsvO8DC2"
      },
      "outputs": [
        {
          "data": {
            "text/html": [
              "<div>\n",
              "<style scoped>\n",
              "    .dataframe tbody tr th:only-of-type {\n",
              "        vertical-align: middle;\n",
              "    }\n",
              "\n",
              "    .dataframe tbody tr th {\n",
              "        vertical-align: top;\n",
              "    }\n",
              "\n",
              "    .dataframe thead th {\n",
              "        text-align: right;\n",
              "    }\n",
              "</style>\n",
              "<table border=\"1\" class=\"dataframe\">\n",
              "  <thead>\n",
              "    <tr style=\"text-align: right;\">\n",
              "      <th></th>\n",
              "      <th>station</th>\n",
              "      <th>month</th>\n",
              "      <th>temp_avg</th>\n",
              "      <th>rain_avg</th>\n",
              "      <th>co_avg</th>\n",
              "    </tr>\n",
              "  </thead>\n",
              "  <tbody>\n",
              "    <tr>\n",
              "      <th>0</th>\n",
              "      <td>Huairou</td>\n",
              "      <td>3</td>\n",
              "      <td>4.819624</td>\n",
              "      <td>0.017473</td>\n",
              "      <td>1194.713038</td>\n",
              "    </tr>\n",
              "    <tr>\n",
              "      <th>1</th>\n",
              "      <td>Huairou</td>\n",
              "      <td>4</td>\n",
              "      <td>11.543056</td>\n",
              "      <td>0.017500</td>\n",
              "      <td>752.731944</td>\n",
              "    </tr>\n",
              "    <tr>\n",
              "      <th>2</th>\n",
              "      <td>Huairou</td>\n",
              "      <td>5</td>\n",
              "      <td>20.929032</td>\n",
              "      <td>0.005242</td>\n",
              "      <td>961.991935</td>\n",
              "    </tr>\n",
              "    <tr>\n",
              "      <th>3</th>\n",
              "      <td>Huairou</td>\n",
              "      <td>6</td>\n",
              "      <td>22.798056</td>\n",
              "      <td>0.183889</td>\n",
              "      <td>1085.250000</td>\n",
              "    </tr>\n",
              "    <tr>\n",
              "      <th>4</th>\n",
              "      <td>Huairou</td>\n",
              "      <td>7</td>\n",
              "      <td>26.300672</td>\n",
              "      <td>0.327554</td>\n",
              "      <td>872.435484</td>\n",
              "    </tr>\n",
              "    <tr>\n",
              "      <th>5</th>\n",
              "      <td>Huairou</td>\n",
              "      <td>8</td>\n",
              "      <td>25.807796</td>\n",
              "      <td>0.100941</td>\n",
              "      <td>749.529570</td>\n",
              "    </tr>\n",
              "    <tr>\n",
              "      <th>6</th>\n",
              "      <td>Huairou</td>\n",
              "      <td>9</td>\n",
              "      <td>19.435972</td>\n",
              "      <td>0.052917</td>\n",
              "      <td>1010.829167</td>\n",
              "    </tr>\n",
              "    <tr>\n",
              "      <th>7</th>\n",
              "      <td>Huairou</td>\n",
              "      <td>10</td>\n",
              "      <td>12.009140</td>\n",
              "      <td>0.016667</td>\n",
              "      <td>919.018817</td>\n",
              "    </tr>\n",
              "    <tr>\n",
              "      <th>8</th>\n",
              "      <td>Huairou</td>\n",
              "      <td>11</td>\n",
              "      <td>4.873611</td>\n",
              "      <td>0.000000</td>\n",
              "      <td>979.861111</td>\n",
              "    </tr>\n",
              "    <tr>\n",
              "      <th>9</th>\n",
              "      <td>Huairou</td>\n",
              "      <td>12</td>\n",
              "      <td>-1.913306</td>\n",
              "      <td>0.000000</td>\n",
              "      <td>1353.696237</td>\n",
              "    </tr>\n",
              "    <tr>\n",
              "      <th>10</th>\n",
              "      <td>Wanshouxigong</td>\n",
              "      <td>3</td>\n",
              "      <td>6.373253</td>\n",
              "      <td>0.023656</td>\n",
              "      <td>1561.543011</td>\n",
              "    </tr>\n",
              "    <tr>\n",
              "      <th>11</th>\n",
              "      <td>Wanshouxigong</td>\n",
              "      <td>4</td>\n",
              "      <td>12.599167</td>\n",
              "      <td>0.014167</td>\n",
              "      <td>1003.448611</td>\n",
              "    </tr>\n",
              "    <tr>\n",
              "      <th>12</th>\n",
              "      <td>Wanshouxigong</td>\n",
              "      <td>5</td>\n",
              "      <td>21.787903</td>\n",
              "      <td>0.007661</td>\n",
              "      <td>1100.577285</td>\n",
              "    </tr>\n",
              "    <tr>\n",
              "      <th>13</th>\n",
              "      <td>Wanshouxigong</td>\n",
              "      <td>6</td>\n",
              "      <td>23.783056</td>\n",
              "      <td>0.101528</td>\n",
              "      <td>1583.515972</td>\n",
              "    </tr>\n",
              "    <tr>\n",
              "      <th>14</th>\n",
              "      <td>Wanshouxigong</td>\n",
              "      <td>7</td>\n",
              "      <td>27.156452</td>\n",
              "      <td>0.280242</td>\n",
              "      <td>1227.063172</td>\n",
              "    </tr>\n",
              "    <tr>\n",
              "      <th>15</th>\n",
              "      <td>Wanshouxigong</td>\n",
              "      <td>8</td>\n",
              "      <td>27.257661</td>\n",
              "      <td>0.090726</td>\n",
              "      <td>1076.142473</td>\n",
              "    </tr>\n",
              "    <tr>\n",
              "      <th>16</th>\n",
              "      <td>Wanshouxigong</td>\n",
              "      <td>9</td>\n",
              "      <td>20.487361</td>\n",
              "      <td>0.115000</td>\n",
              "      <td>1366.057974</td>\n",
              "    </tr>\n",
              "    <tr>\n",
              "      <th>17</th>\n",
              "      <td>Wanshouxigong</td>\n",
              "      <td>10</td>\n",
              "      <td>13.199866</td>\n",
              "      <td>0.017070</td>\n",
              "      <td>1397.355858</td>\n",
              "    </tr>\n",
              "    <tr>\n",
              "      <th>18</th>\n",
              "      <td>Wanshouxigong</td>\n",
              "      <td>11</td>\n",
              "      <td>5.880556</td>\n",
              "      <td>0.000833</td>\n",
              "      <td>1575.416667</td>\n",
              "    </tr>\n",
              "    <tr>\n",
              "      <th>19</th>\n",
              "      <td>Wanshouxigong</td>\n",
              "      <td>12</td>\n",
              "      <td>-0.005242</td>\n",
              "      <td>0.000000</td>\n",
              "      <td>2217.473118</td>\n",
              "    </tr>\n",
              "  </tbody>\n",
              "</table>\n",
              "</div>"
            ],
            "text/plain": [
              "          station  month   temp_avg  rain_avg       co_avg\n",
              "0         Huairou      3   4.819624  0.017473  1194.713038\n",
              "1         Huairou      4  11.543056  0.017500   752.731944\n",
              "2         Huairou      5  20.929032  0.005242   961.991935\n",
              "3         Huairou      6  22.798056  0.183889  1085.250000\n",
              "4         Huairou      7  26.300672  0.327554   872.435484\n",
              "5         Huairou      8  25.807796  0.100941   749.529570\n",
              "6         Huairou      9  19.435972  0.052917  1010.829167\n",
              "7         Huairou     10  12.009140  0.016667   919.018817\n",
              "8         Huairou     11   4.873611  0.000000   979.861111\n",
              "9         Huairou     12  -1.913306  0.000000  1353.696237\n",
              "10  Wanshouxigong      3   6.373253  0.023656  1561.543011\n",
              "11  Wanshouxigong      4  12.599167  0.014167  1003.448611\n",
              "12  Wanshouxigong      5  21.787903  0.007661  1100.577285\n",
              "13  Wanshouxigong      6  23.783056  0.101528  1583.515972\n",
              "14  Wanshouxigong      7  27.156452  0.280242  1227.063172\n",
              "15  Wanshouxigong      8  27.257661  0.090726  1076.142473\n",
              "16  Wanshouxigong      9  20.487361  0.115000  1366.057974\n",
              "17  Wanshouxigong     10  13.199866  0.017070  1397.355858\n",
              "18  Wanshouxigong     11   5.880556  0.000833  1575.416667\n",
              "19  Wanshouxigong     12  -0.005242  0.000000  2217.473118"
            ]
          },
          "execution_count": 9,
          "metadata": {},
          "output_type": "execute_result"
        }
      ],
      "source": [
        "# Aggregate data\n",
        "target_df = sensor_df.loc[sensor_df['station'].isin(['Wanshouxigong', 'Huairou'])]\n",
        "target_stat_df = pd.DataFrame.from_records(\n",
        "    target_df.loc[target_df['year'] == 2013].groupby(by=['station', 'month']).agg(\n",
        "        temp_avg=pd.NamedAgg(column=\"TEMP\", aggfunc=\"mean\"),\n",
        "        rain_avg=pd.NamedAgg(column=\"RAIN\", aggfunc=\"mean\"),\n",
        "        co_avg=pd.NamedAgg(column=\"CO\", aggfunc=\"mean\"),\n",
        "    ).to_records()\n",
        ")\n",
        "target_stat_df"
      ]
    },
    {
      "cell_type": "code",
      "execution_count": 11,
      "metadata": {},
      "outputs": [
        {
          "data": {
            "text/plain": [
              "Text(0.5, 1.0, 'Wanshouxigong Coorelation Heatmap')"
            ]
          },
          "execution_count": 11,
          "metadata": {},
          "output_type": "execute_result"
        },
        {
          "data": {
            "image/png": "[encoded data removed]",
            "text/plain": [
              "<Figure size 640x480 with 2 Axes>"
            ]
          },
          "metadata": {},
          "output_type": "display_data"
        }
      ],
      "source": [
        "# Correlation on Wanshouxhigong station\n",
        "station_df = target_stat_df.loc[(target_stat_df['station'] == 'Wanshouxigong')][target_stat_df.columns[~target_stat_df.columns.isin(['month'])]]\n",
        "ax = plt.axes()\n",
        "sns.heatmap(station_df.corr(method='pearson', numeric_only=True), ax=ax)\n",
        "ax.set_title(\"Wanshouxigong Coorelation Heatmap\")"
      ]
    },
    {
      "cell_type": "code",
      "execution_count": 101,
      "metadata": {},
      "outputs": [
        {
          "data": {
            "text/plain": [
              "<Axes: >"
            ]
          },
          "execution_count": 101,
          "metadata": {},
          "output_type": "execute_result"
        },
        {
          "data": {
            "image/png": "[encoded data removed]",
            "text/plain": [
              "<Figure size 640x480 with 2 Axes>"
            ]
          },
          "metadata": {},
          "output_type": "display_data"
        }
      ],
      "source": [
        "# Correlation on Huairou station\n",
        "station_df = target_stat_df.loc[(target_stat_df['station'] == 'Huairou')][target_stat_df.columns[~target_stat_df.columns.isin(['month'])]]\n",
        "sns.heatmap(station_df.corr(method='pearson', numeric_only=True))"
      ]
    },
    {
      "cell_type": "markdown",
      "metadata": {
        "id": "_0-36BDLklRg"
      },
      "source": [
        "**Insight:**\n",
        "- temperature terendah tercatat -11.6 di stasiun Huairou dan temperature tertinggi sebesar 38 di stasiun Wanshouxigong\n",
        "- Ada yang berbanding terbalik seperti temperature dengan kadar CO sedangkan curah hujan tidak terlalu berkaitan dengan kadar CO"
      ]
    },
    {
      "cell_type": "markdown",
      "metadata": {
        "id": "9y4VUsmcYNZ5"
      },
      "source": [
        "## Analisis Lanjutan (Opsional)"
      ]
    },
    {
      "cell_type": "code",
      "execution_count": null,
      "metadata": {
        "id": "iWhnzsJGYUCO"
      },
      "outputs": [],
      "source": []
    },
    {
      "cell_type": "markdown",
      "metadata": {
        "id": "_WeHlCeX8DC2"
      },
      "source": [
        "## Conclusion"
      ]
    },
    {
      "cell_type": "markdown",
      "metadata": {
        "id": "ZTcyR48Y8DC2"
      },
      "source": [
        "- Beberapa stasiun memiliki titik temperature terendah dan tertinggi akan tetapi secara keseluruhan titik terendah tercatat pada stasiun Huairou dengan nilai -11.6 dan titik tertinggi tercatat pada stasiun Wanshouxigong dengan nilai 38\n",
        "- Grafik heatmap menunjukkan korelasi untuk rata-rata bulanan pada stasiun Huairou dan Wanshouxigong yang mana menunjukkan pola yang sama dimana temperature berbanding terbalik dengan kadar CO dan kadar CO tidak terlalu berkaitan dengan curah hujan dilihat dari correlation matrix / value."
      ]
    }
  ],
  "metadata": {
    "colab": {
      "provenance": []
    },
    "kernelspec": {
      "display_name": "Python 3",
      "language": "python",
      "name": "python3"
    },
    "language_info": {
      "codemirror_mode": {
        "name": "ipython",
        "version": 3
      },
      "file_extension": ".py",
      "mimetype": "text/x-python",
      "name": "python",
      "nbconvert_exporter": "python",
      "pygments_lexer": "ipython3",
      "version": "3.12.2"
    },
    "orig_nbformat": 4,
    "vscode": {
      "interpreter": {
        "hash": "972b3bf27e332e87b5379f2791f6ef9dfc79c71018c370b0d7423235e20fe4d7"
      }
    }
  },
  "nbformat": 4,
  "nbformat_minor": 0
}
